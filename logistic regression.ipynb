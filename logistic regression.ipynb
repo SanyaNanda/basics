{
 "cells": [
  {
   "cell_type": "code",
   "execution_count": 1,
   "metadata": {},
   "outputs": [],
   "source": [
    "import numpy as np\n",
    "from matplotlib import pyplot as plt\n",
    "%matplotlib inline\n",
    "from sklearn.datasets import make_regression"
   ]
  },
  {
   "cell_type": "code",
   "execution_count": 2,
   "metadata": {},
   "outputs": [],
   "source": [
    "mean_1= np.array([1,2])"
   ]
  },
  {
   "cell_type": "code",
   "execution_count": 16,
   "metadata": {},
   "outputs": [],
   "source": [
    "cov_1=np.array([[1,0.2],[0.2,1]])\n",
    "mean_2=np.array([5,6])\n",
    "cov_2=np.array([[1,0.2],[0.2,1]])"
   ]
  },
  {
   "cell_type": "code",
   "execution_count": 17,
   "metadata": {},
   "outputs": [],
   "source": [
    "dist_1=np.random.multivariate_normal(mean_1,cov_1,500)\n",
    "dist_2=np.random.multivariate_normal(mean_2,cov_2,500) "
   ]
  },
  {
   "cell_type": "code",
   "execution_count": 18,
   "metadata": {},
   "outputs": [
    {
     "name": "stdout",
     "output_type": "stream",
     "text": [
      "(500, 2) (500, 2)\n"
     ]
    }
   ],
   "source": [
    "print(dist_1.shape,dist_2.shape)"
   ]
  },
  {
   "cell_type": "code",
   "execution_count": 20,
   "metadata": {},
   "outputs": [
    {
     "data": {
      "image/png": "[encoded data removed]",
      "text/plain": [
       "<Figure size 432x288 with 1 Axes>"
      ]
     },
     "metadata": {
      "needs_background": "light"
     },
     "output_type": "display_data"
    }
   ],
   "source": [
    "plt.figure(0)\n",
    "plt.xlim(-5,10)\n",
    "plt.ylim(-5,10)\n",
    "\n",
    "plt.scatter(dist_1[:, 0],dist_1[:, 1])\n",
    "plt.scatter(dist_2[:, 0],dist_2[:, 1], color='red')\n",
    "plt.show()"
   ]
  },
  {
   "cell_type": "code",
   "execution_count": 21,
   "metadata": {},
   "outputs": [
    {
     "name": "stdout",
     "output_type": "stream",
     "text": [
      "(1000, 3)\n"
     ]
    }
   ],
   "source": [
    "r=dist_1.shape[0]+dist_2.shape[0]\n",
    "c=dist_1.shape[1]+1\n",
    "data=np.zeros((r,c))\n",
    "print(data.shape)\n",
    "\n",
    "data[:dist_1.shape[0], :2]=dist_1\n",
    "data[dist_1.shape[0]:, :2]=dist_2\n",
    "data[dist_1.shape[0]:, -1]=1.0"
   ]
  },
  {
   "cell_type": "code",
   "execution_count": 22,
   "metadata": {},
   "outputs": [
    {
     "name": "stdout",
     "output_type": "stream",
     "text": [
      "[[ 5.02316636  4.50896697  1.        ]\n",
      " [ 0.60897269  1.47346144  0.        ]\n",
      " [ 4.84344051  5.88255876  1.        ]\n",
      " [ 3.89579494  6.31857855  1.        ]\n",
      " [ 0.86149751  2.71493157  0.        ]\n",
      " [ 6.28773295  6.58367097  1.        ]\n",
      " [ 4.0536452   7.07983572  1.        ]\n",
      " [ 3.22321196  1.48363291  0.        ]\n",
      " [ 4.63897086  6.71302362  1.        ]\n",
      " [ 5.46730741  5.96589477  1.        ]\n",
      " [ 4.72171429  5.80923892  1.        ]\n",
      " [ 0.68577341  4.6582686   0.        ]\n",
      " [ 0.4580779   2.10492003  0.        ]\n",
      " [ 3.73179532  6.15002576  1.        ]\n",
      " [-0.31832852  3.1308128   0.        ]\n",
      " [ 6.40309825  5.84347164  1.        ]\n",
      " [ 4.85969387  5.52119183  1.        ]\n",
      " [-0.13399804  0.5118228   0.        ]\n",
      " [ 5.26302944  7.26329518  1.        ]\n",
      " [ 3.5954654   4.72099757  1.        ]\n",
      " [ 6.11505434  7.45598152  1.        ]\n",
      " [ 2.07446827  3.39536617  0.        ]\n",
      " [ 3.77459857  4.85915404  1.        ]\n",
      " [ 5.12056671  7.92678947  1.        ]\n",
      " [ 1.33516937  0.47553675  0.        ]\n",
      " [ 5.12967372  5.11765368  1.        ]\n",
      " [ 0.76196664  3.2222401   0.        ]\n",
      " [ 4.2339731   6.41984318  1.        ]\n",
      " [ 1.08969083  1.46834161  0.        ]\n",
      " [ 5.34871213  6.34077993  1.        ]\n",
      " [-0.9385445   4.4536253   0.        ]\n",
      " [ 0.647031    0.32960823  0.        ]\n",
      " [ 1.02810892  1.57283112  0.        ]\n",
      " [ 1.03694548  3.83072288  0.        ]\n",
      " [-1.83281161  1.73265622  0.        ]\n",
      " [ 1.52344293  0.49715401  0.        ]\n",
      " [ 6.01763401  7.20316458  1.        ]\n",
      " [ 2.98761217  6.19711669  1.        ]\n",
      " [ 5.67451409  4.96811907  1.        ]\n",
      " [ 7.72145657  6.07573638  1.        ]\n",
      " [ 6.06107248  5.77883077  1.        ]\n",
      " [ 0.57148802  4.2620213   0.        ]\n",
      " [ 3.50945453  6.08027311  1.        ]\n",
      " [ 4.46025097  4.14374819  1.        ]\n",
      " [ 5.18898128  3.91440272  1.        ]\n",
      " [ 4.04865158  5.20485446  1.        ]\n",
      " [ 1.66729184  2.4389518   0.        ]\n",
      " [ 0.64146586  3.07527706  0.        ]\n",
      " [ 0.77645254  2.04094671  0.        ]\n",
      " [ 0.53864633  2.82227461  0.        ]]\n"
     ]
    }
   ],
   "source": [
    "np.random.shuffle(data)\n",
    "print(data[:50])"
   ]
  },
  {
   "cell_type": "code",
   "execution_count": 23,
   "metadata": {},
   "outputs": [
    {
     "name": "stdout",
     "output_type": "stream",
     "text": [
      "(800, 2) (200, 2)\n",
      "(800,) (200,)\n"
     ]
    }
   ],
   "source": [
    "split= int(0.8*data.shape[0])\n",
    "\n",
    "X_train=data[:split, :-1]\n",
    "X_test=data[split:, :-1]\n",
    "\n",
    "Y_train=data[:split,-1]\n",
    "Y_test=data[split:,-1]\n",
    "\n",
    "print(X_train.shape, X_test.shape)\n",
    "print(Y_train.shape, Y_test.shape)"
   ]
  },
  {
   "cell_type": "code",
   "execution_count": 28,
   "metadata": {},
   "outputs": [],
   "source": [
    "def hypothesis(x,w,b):\n",
    "    h=(w*x).sum()+b\n",
    "    return sigmoid(h)\n",
    "\n",
    "def sigmoid(z):\n",
    "    return 1.0/(1.0 + np.exp(-1.0 * z))\n",
    "\n",
    "def get_error(y_true,x,w,b):\n",
    "    err=0.0\n",
    "    \n",
    "    m=x.shape[0]\n",
    "    for i in range(m):\n",
    "        if y_true[i] == 1:\n",
    "            err+= -1.0*np.log2(hypothesis(x[i],w,b))\n",
    "        else:\n",
    "            err+= -1.0*np.log2(1.0-hypothesis(x[i],w,b))\n",
    "    err/=m\n",
    "    return err\n",
    "\n",
    "def get_grads(y_true,x,w,b):\n",
    "    grad_w=np.zeros(w.shape)\n",
    "    grad_b=0.0\n",
    "    \n",
    "    m=x.shape[0]\n",
    "    \n",
    "    for ix in range(m):\n",
    "        grad_w+= (y_true[ix]- hypothesis(x[ix],w,b))*(x[ix])*(-1)\n",
    "        grad_b+= (y_true[ix]- hypothesis(x[ix],w,b))*(-1)\n",
    "    \n",
    "    grad_w/=m\n",
    "    grad_b/=m\n",
    "    return[grad_w,grad_b]\n",
    "\n",
    "def grad_descent(x,y_true,w,b,learning_rates=0.1):\n",
    "    error=get_error(y_true,x,w,b)\n",
    "    [grad_w,grad_b] = get_grads(y_true,x,w,b)\n",
    "    \n",
    "    b = b - learning_rates*grad_b\n",
    "    w = w - learning_rates*grad_w\n",
    "    \n",
    "    return error, w, b"
   ]
  },
  {
   "cell_type": "code",
   "execution_count": 29,
   "metadata": {},
   "outputs": [],
   "source": [
    "def predict(x,w,b):\n",
    "    prob=hypothesis(x,w,b)\n",
    "    \n",
    "    if prob<0.5:\n",
    "        return 0\n",
    "    else:\n",
    "        return 1\n",
    "    \n",
    "def get_acc(x_tst,y_tst,w,B):\n",
    "    y_pred=[]\n",
    "    for ix in range(y_tst.shape[0]):\n",
    "        y_pred.append(predict(x_tst[ix],w,b))\n",
    "    y_pred=np.asarray(y_pred)\n",
    "    return float((y_pred==y_tst).sum()/y_tst.shape[0])"
   ]
  },
  {
   "cell_type": "code",
   "execution_count": 30,
   "metadata": {},
   "outputs": [],
   "source": [
    "loss=[]\n",
    "acc=[]\n",
    "W=np.random.random((X_train.shape[1],))\n",
    "b=np.random.random()\n"
   ]
  },
  {
   "cell_type": "code",
   "execution_count": 31,
   "metadata": {},
   "outputs": [],
   "source": [
    "for ix in range(100):\n",
    "    l,W,b=grad_descent(X_train, Y_train,W,b,learning_rates=0.5)\n",
    "    acc.append(get_acc(X_test,Y_test,W,b))\n",
    "    loss.append(l)\n",
    "    "
   ]
  },
  {
   "cell_type": "code",
   "execution_count": null,
   "metadata": {},
   "outputs": [],
   "source": [
    "plt.figure(0)\n",
    "plt.plot(loss)\n",
    "\n",
    "plt.figure(1)\n",
    "plt.plot(acc)"
   ]
  }
 ],
 "metadata": {
  "kernelspec": {
   "display_name": "Python 3",
   "language": "python",
   "name": "python3"
  },
  "language_info": {
   "codemirror_mode": {
    "name": "ipython",
    "version": 3
   },
   "file_extension": ".py",
   "mimetype": "text/x-python",
   "name": "python",
   "nbconvert_exporter": "python",
   "pygments_lexer": "ipython3",
   "version": "3.6.8"
  }
 },
 "nbformat": 4,
 "nbformat_minor": 2
}
